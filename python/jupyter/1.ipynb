{
 "cells": [
  {
   "cell_type": "code",
   "execution_count": 1,
   "id": "8fddc0b6",
   "metadata": {},
   "outputs": [
    {
     "name": "stdout",
     "output_type": "stream",
     "text": [
      "Hello\n"
     ]
    }
   ],
   "source": [
    "print(\"Hello\")"
   ]
  },
  {
   "cell_type": "code",
   "execution_count": 3,
   "id": "fb086ad9",
   "metadata": {},
   "outputs": [
    {
     "data": {
      "text/plain": [
       "10"
      ]
     },
     "execution_count": 3,
     "metadata": {},
     "output_type": "execute_result"
    }
   ],
   "source": [
    "5+5"
   ]
  },
  {
   "cell_type": "code",
   "execution_count": 6,
   "id": "3ccfc0e0",
   "metadata": {},
   "outputs": [],
   "source": [
    "#libraries pandas, numpy, scikit\n",
    "import pandas as pd\n",
    "import numpy as np"
   ]
  },
  {
   "cell_type": "code",
   "execution_count": 7,
   "id": "6863a4f1",
   "metadata": {},
   "outputs": [],
   "source": [
    "import pandas as pd\n",
    "import numpy as np"
   ]
  },
  {
   "cell_type": "code",
   "execution_count": 4,
   "id": "69258cb4",
   "metadata": {},
   "outputs": [
    {
     "name": "stdout",
     "output_type": "stream",
     "text": [
      "97\n"
     ]
    }
   ],
   "source": [
    "print(5+23*4)"
   ]
  },
  {
   "cell_type": "code",
   "execution_count": 11,
   "id": "565ad6bd",
   "metadata": {},
   "outputs": [
    {
     "data": {
      "text/html": [
       "<div>\n",
       "<style scoped>\n",
       "    .dataframe tbody tr th:only-of-type {\n",
       "        vertical-align: middle;\n",
       "    }\n",
       "\n",
       "    .dataframe tbody tr th {\n",
       "        vertical-align: top;\n",
       "    }\n",
       "\n",
       "    .dataframe thead th {\n",
       "        text-align: right;\n",
       "    }\n",
       "</style>\n",
       "<table border=\"1\" class=\"dataframe\">\n",
       "  <thead>\n",
       "    <tr style=\"text-align: right;\">\n",
       "      <th></th>\n",
       "      <th>Date</th>\n",
       "      <th>Open</th>\n",
       "      <th>High</th>\n",
       "      <th>Low</th>\n",
       "      <th>Close</th>\n",
       "      <th>Adj Close</th>\n",
       "      <th>Volume</th>\n",
       "    </tr>\n",
       "  </thead>\n",
       "  <tbody>\n",
       "    <tr>\n",
       "      <th>0</th>\n",
       "      <td>13-07-2020</td>\n",
       "      <td>567.979980</td>\n",
       "      <td>575.369995</td>\n",
       "      <td>520.960022</td>\n",
       "      <td>525.500000</td>\n",
       "      <td>525.500000</td>\n",
       "      <td>18399000</td>\n",
       "    </tr>\n",
       "    <tr>\n",
       "      <th>1</th>\n",
       "      <td>14-07-2020</td>\n",
       "      <td>517.080017</td>\n",
       "      <td>525.500000</td>\n",
       "      <td>490.489990</td>\n",
       "      <td>524.880005</td>\n",
       "      <td>524.880005</td>\n",
       "      <td>15083300</td>\n",
       "    </tr>\n",
       "    <tr>\n",
       "      <th>2</th>\n",
       "      <td>15-07-2020</td>\n",
       "      <td>516.299988</td>\n",
       "      <td>529.000000</td>\n",
       "      <td>510.179993</td>\n",
       "      <td>523.260010</td>\n",
       "      <td>523.260010</td>\n",
       "      <td>10066700</td>\n",
       "    </tr>\n",
       "    <tr>\n",
       "      <th>3</th>\n",
       "      <td>16-07-2020</td>\n",
       "      <td>526.479980</td>\n",
       "      <td>535.539978</td>\n",
       "      <td>504.359985</td>\n",
       "      <td>527.390015</td>\n",
       "      <td>527.390015</td>\n",
       "      <td>24499000</td>\n",
       "    </tr>\n",
       "    <tr>\n",
       "      <th>4</th>\n",
       "      <td>17-07-2020</td>\n",
       "      <td>494.869995</td>\n",
       "      <td>503.589996</td>\n",
       "      <td>484.140015</td>\n",
       "      <td>492.989990</td>\n",
       "      <td>492.989990</td>\n",
       "      <td>24991400</td>\n",
       "    </tr>\n",
       "    <tr>\n",
       "      <th>...</th>\n",
       "      <td>...</td>\n",
       "      <td>...</td>\n",
       "      <td>...</td>\n",
       "      <td>...</td>\n",
       "      <td>...</td>\n",
       "      <td>...</td>\n",
       "      <td>...</td>\n",
       "    </tr>\n",
       "    <tr>\n",
       "      <th>247</th>\n",
       "      <td>06-07-2021</td>\n",
       "      <td>533.000000</td>\n",
       "      <td>542.859985</td>\n",
       "      <td>533.000000</td>\n",
       "      <td>541.640015</td>\n",
       "      <td>541.640015</td>\n",
       "      <td>2775100</td>\n",
       "    </tr>\n",
       "    <tr>\n",
       "      <th>248</th>\n",
       "      <td>07-07-2021</td>\n",
       "      <td>544.239990</td>\n",
       "      <td>544.640015</td>\n",
       "      <td>531.659973</td>\n",
       "      <td>535.960022</td>\n",
       "      <td>535.960022</td>\n",
       "      <td>2722500</td>\n",
       "    </tr>\n",
       "    <tr>\n",
       "      <th>249</th>\n",
       "      <td>08-07-2021</td>\n",
       "      <td>530.929993</td>\n",
       "      <td>535.500000</td>\n",
       "      <td>529.090027</td>\n",
       "      <td>530.760010</td>\n",
       "      <td>530.760010</td>\n",
       "      <td>3269000</td>\n",
       "    </tr>\n",
       "    <tr>\n",
       "      <th>250</th>\n",
       "      <td>09-07-2021</td>\n",
       "      <td>531.000000</td>\n",
       "      <td>538.260010</td>\n",
       "      <td>528.580017</td>\n",
       "      <td>535.979980</td>\n",
       "      <td>535.979980</td>\n",
       "      <td>2776800</td>\n",
       "    </tr>\n",
       "    <tr>\n",
       "      <th>251</th>\n",
       "      <td>12-07-2021</td>\n",
       "      <td>540.299988</td>\n",
       "      <td>540.650024</td>\n",
       "      <td>532.919983</td>\n",
       "      <td>537.309998</td>\n",
       "      <td>537.309998</td>\n",
       "      <td>1777600</td>\n",
       "    </tr>\n",
       "  </tbody>\n",
       "</table>\n",
       "<p>252 rows × 7 columns</p>\n",
       "</div>"
      ],
      "text/plain": [
       "           Date        Open        High         Low       Close   Adj Close  \\\n",
       "0    13-07-2020  567.979980  575.369995  520.960022  525.500000  525.500000   \n",
       "1    14-07-2020  517.080017  525.500000  490.489990  524.880005  524.880005   \n",
       "2    15-07-2020  516.299988  529.000000  510.179993  523.260010  523.260010   \n",
       "3    16-07-2020  526.479980  535.539978  504.359985  527.390015  527.390015   \n",
       "4    17-07-2020  494.869995  503.589996  484.140015  492.989990  492.989990   \n",
       "..          ...         ...         ...         ...         ...         ...   \n",
       "247  06-07-2021  533.000000  542.859985  533.000000  541.640015  541.640015   \n",
       "248  07-07-2021  544.239990  544.640015  531.659973  535.960022  535.960022   \n",
       "249  08-07-2021  530.929993  535.500000  529.090027  530.760010  530.760010   \n",
       "250  09-07-2021  531.000000  538.260010  528.580017  535.979980  535.979980   \n",
       "251  12-07-2021  540.299988  540.650024  532.919983  537.309998  537.309998   \n",
       "\n",
       "       Volume  \n",
       "0    18399000  \n",
       "1    15083300  \n",
       "2    10066700  \n",
       "3    24499000  \n",
       "4    24991400  \n",
       "..        ...  \n",
       "247   2775100  \n",
       "248   2722500  \n",
       "249   3269000  \n",
       "250   2776800  \n",
       "251   1777600  \n",
       "\n",
       "[252 rows x 7 columns]"
      ]
     },
     "execution_count": 11,
     "metadata": {},
     "output_type": "execute_result"
    }
   ],
   "source": [
    "#COMMA SEPARATED VALUES , CSV\n",
    "\n",
    "st = 'NFLX'\n",
    "\n",
    "url = 'https://raw.githubusercontent.com/SabarIshShankar/stocks/master/NFLX.csv'\n",
    "\n",
    "#pandas can read values\n",
    "\n",
    "dataframe = pd.read_csv(url)\n",
    "\n",
    "dataframe"
   ]
  },
  {
   "cell_type": "code",
   "execution_count": 12,
   "id": "07c1697e",
   "metadata": {},
   "outputs": [],
   "source": [
    "d = dataframe"
   ]
  },
  {
   "cell_type": "code",
   "execution_count": 15,
   "id": "3e13aad1",
   "metadata": {},
   "outputs": [
    {
     "data": {
      "text/plain": [
       "0      567.979980\n",
       "1      517.080017\n",
       "2      516.299988\n",
       "3      526.479980\n",
       "4      494.869995\n",
       "          ...    \n",
       "247    533.000000\n",
       "248    544.239990\n",
       "249    530.929993\n",
       "250    531.000000\n",
       "251    540.299988\n",
       "Name: Open, Length: 252, dtype: float64"
      ]
     },
     "execution_count": 15,
     "metadata": {},
     "output_type": "execute_result"
    }
   ],
   "source": [
    "d['Open']"
   ]
  },
  {
   "cell_type": "code",
   "execution_count": 16,
   "id": "6783a398",
   "metadata": {},
   "outputs": [
    {
     "data": {
      "text/plain": [
       "0      525.500000\n",
       "1      524.880005\n",
       "2      523.260010\n",
       "3      527.390015\n",
       "4      492.989990\n",
       "          ...    \n",
       "247    541.640015\n",
       "248    535.960022\n",
       "249    530.760010\n",
       "250    535.979980\n",
       "251    537.309998\n",
       "Name: Close, Length: 252, dtype: float64"
      ]
     },
     "execution_count": 16,
     "metadata": {},
     "output_type": "execute_result"
    }
   ],
   "source": [
    "d['Close']"
   ]
  },
  {
   "cell_type": "code",
   "execution_count": 19,
   "id": "6e9b6cc4",
   "metadata": {},
   "outputs": [
    {
     "data": {
      "text/plain": [
       "586.340027"
      ]
     },
     "execution_count": 19,
     "metadata": {},
     "output_type": "execute_result"
    }
   ],
   "source": [
    "d['Close'].max()"
   ]
  },
  {
   "cell_type": "code",
   "execution_count": 20,
   "id": "c1ab7ff5",
   "metadata": {},
   "outputs": [
    {
     "data": {
      "text/plain": [
       "466.929993"
      ]
     },
     "execution_count": 20,
     "metadata": {},
     "output_type": "execute_result"
    }
   ],
   "source": [
    "d['Close'].min()"
   ]
  },
  {
   "cell_type": "code",
   "execution_count": 21,
   "id": "a50b8ad1",
   "metadata": {},
   "outputs": [
    {
     "data": {
      "text/plain": [
       "119.41003399999994"
      ]
     },
     "execution_count": 21,
     "metadata": {},
     "output_type": "execute_result"
    }
   ],
   "source": [
    "d['Close'].max()-d['Close'].min()  "
   ]
  },
  {
   "cell_type": "code",
   "execution_count": 23,
   "id": "60700db7",
   "metadata": {},
   "outputs": [],
   "source": [
    "import matplotlib.pyplot as plot"
   ]
  },
  {
   "cell_type": "code",
   "execution_count": 24,
   "id": "ae066f93",
   "metadata": {},
   "outputs": [
    {
     "data": {
      "text/plain": [
       "<AxesSubplot:>"
      ]
     },
     "execution_count": 24,
     "metadata": {},
     "output_type": "execute_result"
    },
    {
     "data": {
      "image/png": "[encoded data removed]",
      "text/plain": [
       "<Figure size 432x288 with 1 Axes>"
      ]
     },
     "metadata": {
      "needs_background": "light"
     },
     "output_type": "display_data"
    }
   ],
   "source": [
    "d['Close'].plot()"
   ]
  },
  {
   "cell_type": "code",
   "execution_count": 25,
   "id": "c37b38f2",
   "metadata": {},
   "outputs": [
    {
     "data": {
      "text/plain": [
       "<AxesSubplot:>"
      ]
     },
     "execution_count": 25,
     "metadata": {},
     "output_type": "execute_result"
    },
    {
     "data": {
      "image/png": "[encoded data removed]",
      "text/plain": [
       "<Figure size 432x288 with 1 Axes>"
      ]
     },
     "metadata": {
      "needs_background": "light"
     },
     "output_type": "display_data"
    }
   ],
   "source": [
    "d.plot()"
   ]
  },
  {
   "cell_type": "code",
   "execution_count": 27,
   "id": "f1d5009b",
   "metadata": {},
   "outputs": [
    {
     "data": {
      "text/plain": [
       "507.404999"
      ]
     },
     "execution_count": 27,
     "metadata": {},
     "output_type": "execute_result"
    }
   ],
   "source": [
    "d['Close'].median()"
   ]
  },
  {
   "cell_type": "code",
   "execution_count": 26,
   "id": "b10bad03",
   "metadata": {},
   "outputs": [
    {
     "data": {
      "text/plain": [
       "512.299483781746"
      ]
     },
     "execution_count": 26,
     "metadata": {},
     "output_type": "execute_result"
    }
   ],
   "source": [
    "d['Close'].mean()"
   ]
  },
  {
   "cell_type": "code",
   "execution_count": 28,
   "id": "98da9555",
   "metadata": {},
   "outputs": [
    {
     "name": "stdout",
     "output_type": "stream",
     "text": [
      "<class 'pandas.core.frame.DataFrame'>\n",
      "RangeIndex: 252 entries, 0 to 251\n",
      "Data columns (total 7 columns):\n",
      " #   Column     Non-Null Count  Dtype  \n",
      "---  ------     --------------  -----  \n",
      " 0   Date       252 non-null    object \n",
      " 1   Open       252 non-null    float64\n",
      " 2   High       252 non-null    float64\n",
      " 3   Low        252 non-null    float64\n",
      " 4   Close      252 non-null    float64\n",
      " 5   Adj Close  252 non-null    float64\n",
      " 6   Volume     252 non-null    int64  \n",
      "dtypes: float64(5), int64(1), object(1)\n",
      "memory usage: 13.9+ KB\n"
     ]
    }
   ],
   "source": [
    "d.info()"
   ]
  },
  {
   "cell_type": "code",
   "execution_count": 29,
   "id": "d85e2aa1",
   "metadata": {
    "scrolled": true
   },
   "outputs": [
    {
     "data": {
      "text/html": [
       "<div>\n",
       "<style scoped>\n",
       "    .dataframe tbody tr th:only-of-type {\n",
       "        vertical-align: middle;\n",
       "    }\n",
       "\n",
       "    .dataframe tbody tr th {\n",
       "        vertical-align: top;\n",
       "    }\n",
       "\n",
       "    .dataframe thead th {\n",
       "        text-align: right;\n",
       "    }\n",
       "</style>\n",
       "<table border=\"1\" class=\"dataframe\">\n",
       "  <thead>\n",
       "    <tr style=\"text-align: right;\">\n",
       "      <th></th>\n",
       "      <th>Open</th>\n",
       "      <th>High</th>\n",
       "      <th>Low</th>\n",
       "      <th>Close</th>\n",
       "      <th>Adj Close</th>\n",
       "      <th>Volume</th>\n",
       "    </tr>\n",
       "  </thead>\n",
       "  <tbody>\n",
       "    <tr>\n",
       "      <th>count</th>\n",
       "      <td>252.000000</td>\n",
       "      <td>252.000000</td>\n",
       "      <td>252.000000</td>\n",
       "      <td>252.000000</td>\n",
       "      <td>252.000000</td>\n",
       "      <td>2.520000e+02</td>\n",
       "    </tr>\n",
       "    <tr>\n",
       "      <th>mean</th>\n",
       "      <td>512.635516</td>\n",
       "      <td>519.686944</td>\n",
       "      <td>504.960438</td>\n",
       "      <td>512.299484</td>\n",
       "      <td>512.299484</td>\n",
       "      <td>5.140693e+06</td>\n",
       "    </tr>\n",
       "    <tr>\n",
       "      <th>std</th>\n",
       "      <td>24.907591</td>\n",
       "      <td>25.144687</td>\n",
       "      <td>23.999961</td>\n",
       "      <td>24.742494</td>\n",
       "      <td>24.742494</td>\n",
       "      <td>3.780276e+06</td>\n",
       "    </tr>\n",
       "    <tr>\n",
       "      <th>min</th>\n",
       "      <td>467.690002</td>\n",
       "      <td>477.000000</td>\n",
       "      <td>458.600006</td>\n",
       "      <td>466.929993</td>\n",
       "      <td>466.929993</td>\n",
       "      <td>1.144000e+06</td>\n",
       "    </tr>\n",
       "    <tr>\n",
       "      <th>25%</th>\n",
       "      <td>492.235001</td>\n",
       "      <td>497.939995</td>\n",
       "      <td>485.525009</td>\n",
       "      <td>491.742493</td>\n",
       "      <td>491.742493</td>\n",
       "      <td>3.187825e+06</td>\n",
       "    </tr>\n",
       "    <tr>\n",
       "      <th>50%</th>\n",
       "      <td>507.330002</td>\n",
       "      <td>514.184998</td>\n",
       "      <td>500.524994</td>\n",
       "      <td>507.404999</td>\n",
       "      <td>507.404999</td>\n",
       "      <td>4.111850e+06</td>\n",
       "    </tr>\n",
       "    <tr>\n",
       "      <th>75%</th>\n",
       "      <td>532.149994</td>\n",
       "      <td>538.654984</td>\n",
       "      <td>524.252518</td>\n",
       "      <td>531.099991</td>\n",
       "      <td>531.099991</td>\n",
       "      <td>5.488550e+06</td>\n",
       "    </tr>\n",
       "    <tr>\n",
       "      <th>max</th>\n",
       "      <td>582.450012</td>\n",
       "      <td>593.289978</td>\n",
       "      <td>570.400024</td>\n",
       "      <td>586.340027</td>\n",
       "      <td>586.340027</td>\n",
       "      <td>3.263750e+07</td>\n",
       "    </tr>\n",
       "  </tbody>\n",
       "</table>\n",
       "</div>"
      ],
      "text/plain": [
       "             Open        High         Low       Close   Adj Close  \\\n",
       "count  252.000000  252.000000  252.000000  252.000000  252.000000   \n",
       "mean   512.635516  519.686944  504.960438  512.299484  512.299484   \n",
       "std     24.907591   25.144687   23.999961   24.742494   24.742494   \n",
       "min    467.690002  477.000000  458.600006  466.929993  466.929993   \n",
       "25%    492.235001  497.939995  485.525009  491.742493  491.742493   \n",
       "50%    507.330002  514.184998  500.524994  507.404999  507.404999   \n",
       "75%    532.149994  538.654984  524.252518  531.099991  531.099991   \n",
       "max    582.450012  593.289978  570.400024  586.340027  586.340027   \n",
       "\n",
       "             Volume  \n",
       "count  2.520000e+02  \n",
       "mean   5.140693e+06  \n",
       "std    3.780276e+06  \n",
       "min    1.144000e+06  \n",
       "25%    3.187825e+06  \n",
       "50%    4.111850e+06  \n",
       "75%    5.488550e+06  \n",
       "max    3.263750e+07  "
      ]
     },
     "execution_count": 29,
     "metadata": {},
     "output_type": "execute_result"
    }
   ],
   "source": [
    "d.describe()"
   ]
  },
  {
   "cell_type": "code",
   "execution_count": 31,
   "id": "13b2d00e",
   "metadata": {},
   "outputs": [
    {
     "name": "stdout",
     "output_type": "stream",
     "text": [
      "                     1. open  2. high  3. low  4. close  5. volume\n",
      "date                                                              \n",
      "2021-07-29 20:00:00   144.43   144.45  144.33    144.34    17900.0\n",
      "2021-07-29 19:55:00   144.56   144.59  144.43    144.45    27202.0\n",
      "2021-07-29 19:50:00   144.55   144.62  144.51    144.55     5776.0\n",
      "2021-07-29 19:45:00   144.51   144.59  144.50    144.57    11832.0\n",
      "2021-07-29 19:40:00   144.51   144.52  144.50    144.51     6917.0\n",
      "...                      ...      ...     ...       ...        ...\n",
      "2021-07-01 04:30:00   136.98   137.04  136.98    137.04     1420.0\n",
      "2021-07-01 04:20:00   137.05   137.05  137.00    137.00     2894.0\n",
      "2021-07-01 04:15:00   137.10   137.14  137.10    137.14     1087.0\n",
      "2021-07-01 04:10:00   137.35   137.35  137.20    137.21    12385.0\n",
      "2021-07-01 04:05:00   137.27   137.35  137.27    137.35     2213.0\n",
      "\n",
      "[3761 rows x 5 columns]\n"
     ]
    }
   ],
   "source": [
    "import time\n",
    "from alpha_vantage.timeseries import TimeSeries\n",
    "\n",
    "ak = 'Y6DGMXFDIW6CX72M'\n",
    "\n",
    "\n",
    "ts  = TimeSeries(key = ak, output_format='pandas')\n",
    "\n",
    "data, meta_data = ts.get_intraday(symbol='AAPL', interval='5min', outputsize='full')\n",
    "print(data)\n",
    "\n"
   ]
  },
  {
   "cell_type": "code",
   "execution_count": 43,
   "id": "3ba22789",
   "metadata": {},
   "outputs": [
    {
     "name": "stdout",
     "output_type": "stream",
     "text": [
      "                      1. open   2. high    3. low  4. close  5. volume\n",
      "date                                                                  \n",
      "2021-07-29 20:00:00       NaN       NaN       NaN       NaN        NaN\n",
      "2021-07-29 19:55:00  0.000900  0.000969  0.000693  0.000762   0.519665\n",
      "2021-07-29 19:50:00 -0.000069  0.000207  0.000554  0.000692  -0.787663\n",
      "2021-07-29 19:45:00 -0.000277 -0.000207 -0.000069  0.000138   1.048476\n",
      "2021-07-29 19:40:00  0.000000 -0.000484  0.000000 -0.000415  -0.415399\n",
      "...                       ...       ...       ...       ...        ...\n",
      "2021-07-01 04:30:00 -0.000146 -0.000073 -0.000146 -0.000073   1.268371\n",
      "2021-07-01 04:20:00  0.000511  0.000073  0.000146 -0.000292   1.038028\n",
      "2021-07-01 04:15:00  0.000365  0.000657  0.000730  0.001022  -0.624395\n",
      "2021-07-01 04:10:00  0.001823  0.001531  0.000729  0.000510  10.393744\n",
      "2021-07-01 04:05:00 -0.000582  0.000000  0.000510  0.001020  -0.821316\n",
      "\n",
      "[3761 rows x 5 columns]\n"
     ]
    }
   ],
   "source": [
    "change = data.pct_change()\n",
    "print(change)"
   ]
  },
  {
   "cell_type": "code",
   "execution_count": 44,
   "id": "c6a71672",
   "metadata": {},
   "outputs": [
    {
     "data": {
      "text/plain": [
       "<AxesSubplot:xlabel='date'>"
      ]
     },
     "execution_count": 44,
     "metadata": {},
     "output_type": "execute_result"
    },
    {
     "data": {
      "image/png": "[encoded data removed]",
      "text/plain": [
       "<Figure size 432x288 with 1 Axes>"
      ]
     },
     "metadata": {
      "needs_background": "light"
     },
     "output_type": "display_data"
    }
   ],
   "source": [
    "change.plot()"
   ]
  }
 ],
 "metadata": {
  "kernelspec": {
   "display_name": "Python 3 (ipykernel)",
   "language": "python",
   "name": "python3"
  },
  "language_info": {
   "codemirror_mode": {
    "name": "ipython",
    "version": 3
   },
   "file_extension": ".py",
   "mimetype": "text/x-python",
   "name": "python",
   "nbconvert_exporter": "python",
   "pygments_lexer": "ipython3",
   "version": "3.9.6"
  }
 },
 "nbformat": 4,
 "nbformat_minor": 5
}
